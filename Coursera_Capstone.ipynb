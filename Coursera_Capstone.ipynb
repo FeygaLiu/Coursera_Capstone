{
 "cells": [
  {
   "cell_type": "markdown",
   "id": "dcb507fc-5585-42ad-8a9d-dffb6a4148fb",
   "metadata": {},
   "source": [
    "*This Jupyter Nootbook is for Coursera Capstone Project only*"
   ]
  },
  {
   "cell_type": "code",
   "execution_count": 5,
   "id": "6ea4f440-a820-4b03-96a3-6dc86c2482f2",
   "metadata": {},
   "outputs": [],
   "source": [
    "import pandas as pd\n",
    "import numpy as np"
   ]
  },
  {
   "cell_type": "code",
   "execution_count": 6,
   "id": "5dece5a5-58f1-4e9e-afc3-c8a9fb4efd61",
   "metadata": {},
   "outputs": [
    {
     "name": "stdout",
     "output_type": "stream",
     "text": [
      "Hello Capstone Project Course!\n"
     ]
    }
   ],
   "source": [
    "print(\"Hello Capstone Project Course!\")"
   ]
  }
 ],
 "metadata": {
  "kernelspec": {
   "display_name": "Python",
   "language": "python",
   "name": "conda-env-python-py"
  },
  "language_info": {
   "codemirror_mode": {
    "name": "ipython",
    "version": 3
   },
   "file_extension": ".py",
   "mimetype": "text/x-python",
   "name": "python",
   "nbconvert_exporter": "python",
   "pygments_lexer": "ipython3",
   "version": "3.6.13"
  }
 },
 "nbformat": 4,
 "nbformat_minor": 5
}
